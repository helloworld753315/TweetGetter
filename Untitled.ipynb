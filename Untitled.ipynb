{
 "cells": [
  {
   "cell_type": "code",
   "execution_count": 1,
   "metadata": {},
   "outputs": [],
   "source": [
    "import tweepy"
   ]
  },
  {
   "cell_type": "code",
   "execution_count": 6,
   "metadata": {},
   "outputs": [
    {
     "name": "stdout",
     "output_type": "stream",
     "text": [
      "twid :  1395013171165888521\n",
      "user :  OKIU_VR\n",
      "date :  2021-05-19 13:47:12\n",
      "@crn_2318 え？\n",
      "By ぶちょー\n",
      "================================================================================\n",
      "twid :  1394998205826273281\n",
      "user :  OKIU_VR\n",
      "date :  2021-05-19 12:47:44\n",
      "@Ryusei57606646 やろうかな\n",
      "\n",
      "By ぶちょー\n",
      "================================================================================\n",
      "twid :  1394997875222847488\n",
      "user :  OKIU_VR\n",
      "date :  2021-05-19 12:46:25\n",
      "@IamJam_yoro うちのメンバーはこういうネタ大好きです☺️\n",
      "どんどんやってください\n",
      "\n",
      "By ぶちょー\n",
      "================================================================================\n",
      "twid :  1394997702358835208\n",
      "user :  OKIU_VR\n",
      "date :  2021-05-19 12:45:44\n",
      "RT @IamJam_yoro: 笑ってくれて良かった。にっこり https://t.co/E1kB3stMdm\n",
      "================================================================================\n",
      "twid :  1394997459064016896\n",
      "user :  OKIU_VR\n",
      "date :  2021-05-19 12:44:46\n",
      "RT @esport2019: 【重要】\n",
      "次の活動日は5/30としていましたが、日曜日の為サークル全体の都合を考えるとずらした方がいいと結論付いたので、次の活動日は5/28(金)になりました！！急な変更申し訳ありません。formの共有は明日の正午を予定しています。\n",
      "================================================================================\n",
      "twid :  1394997297893711874\n",
      "user :  OKIU_VR\n",
      "date :  2021-05-19 12:44:08\n",
      "RT @crn_2318: 私LT会無事に発表終わった😉\n",
      "LT会で私の事知ってくれた方よろしくね〜😆\n",
      "================================================================================\n",
      "twid :  1394997254910402565\n",
      "user :  OKIU_VR\n",
      "date :  2021-05-19 12:43:58\n",
      "@But_you_adoreMe @crn_2318 勝手に読み上げてごめんね\n",
      "\n",
      "By ぶちょー\n",
      "================================================================================\n",
      "twid :  1394997103445757959\n",
      "user :  OKIU_VR\n",
      "date :  2021-05-19 12:43:21\n",
      "RT @uivcn: 高校陽キャしかいなかったからオタク趣味について話せる人全然いなかったけど、産情話合いそうな人多くて嬉しい😌\n",
      "================================================================================\n",
      "twid :  1394870130761342983\n",
      "user :  OKIU_VR\n",
      "date :  2021-05-19 04:18:49\n",
      "@uivcn 週一くらいでぼっち飯してるので、先輩で良ければ\n",
      "\n",
      "By ぶちょー\n",
      "================================================================================\n",
      "twid :  1394851331727257602\n",
      "user :  OKIU_VR\n",
      "date :  2021-05-19 03:04:07\n",
      "@uivcn @TO_musizawa_TO 無料で配布とは少し違うけど、こんなキャンペーンはあったりする\n",
      "https://t.co/1JHRlo6ZkP\n",
      "================================================================================\n"
     ]
    }
   ],
   "source": [
    "# 取得した各種キーを格納---------------------------------------------\n",
    "consumer_key =\"3UKy3NqODhieKg9ozFlnctCai\"\n",
    "consumer_secret =\"054pUmoHqm8n2GbfEtiZ4LCQsO4xgGbO416a2REVmb9DTM5W8n\"\n",
    "access_token=\"946015076267343872-4rM8Tj6uXMLPwBKHO0raW3P8hQj2xl2\"\n",
    "access_token_secret =\"JLIZkoaHQ4gOXTB42Jcc1KcvAqvXvXgLfsXEzIKqWzllR\"\n",
    " \n",
    "# Twitterオブジェクトの生成\n",
    "auth = tweepy.OAuthHandler(consumer_key, consumer_secret)\n",
    "auth.set_access_token(access_token, access_token_secret)\n",
    "api = tweepy.API(auth)\n",
    "#-------------------------------------------------------------------\n",
    " \n",
    "#ツイートを投稿\n",
    "Account = \"@OKIU_VR\" #取得したいユーザーのユーザーIDを代入\n",
    "tweets = api.user_timeline(Account, count=10, page=1)\n",
    "num = 1 #ツイート数を計算するための変数\n",
    "for tweet in tweets:\n",
    "    print('twid : ', tweet.id)               # tweetのID\n",
    "    print('user : ', tweet.user.screen_name)  # ユーザー名\n",
    "    print('date : ', tweet.created_at)      # 呟いた日時\n",
    "    print(tweet.text)                  # ツイート内容\n",
    "    print('='*80) # =を80個表示"
   ]
  },
  {
   "cell_type": "code",
   "execution_count": null,
   "metadata": {},
   "outputs": [],
   "source": []
  }
 ],
 "metadata": {
  "kernelspec": {
   "display_name": "Python 3",
   "language": "python",
   "name": "python3"
  },
  "language_info": {
   "codemirror_mode": {
    "name": "ipython",
    "version": 3
   },
   "file_extension": ".py",
   "mimetype": "text/x-python",
   "name": "python",
   "nbconvert_exporter": "python",
   "pygments_lexer": "ipython3",
   "version": "3.7.6"
  }
 },
 "nbformat": 4,
 "nbformat_minor": 4
}
